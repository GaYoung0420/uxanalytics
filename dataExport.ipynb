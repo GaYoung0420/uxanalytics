{
 "cells": [
  {
   "cell_type": "code",
   "execution_count": null,
   "metadata": {},
   "outputs": [],
   "source": [
    "\n",
    "def File(index,prototype):\n",
    "    file = \"./ECG/S\"+index+\"/S\"+index+\"_ECG_\"+prototype+\".txt\"\n",
    "    with open(file, \"r\") as f:\n",
    "        example = f.read()\n",
    "        newer = example.replace('#','\\n')\n",
    "    writefile = \"./ECG/S\"+index+\"/S\"+index+\"_ECG_\"+prototype+\".csv\"\n",
    "    with open(writefile, \"w\") as N:\n",
    "        N.write(newer);"
   ]
  },
  {
   "cell_type": "code",
   "execution_count": 10,
   "metadata": {},
   "outputs": [],
   "source": [
    "# pandas 사용하기\n",
    "import numpy as np # numpy 도 함께 import\n",
    "import pandas as pd\n",
    "\n",
    "def File(index,prototype):\n",
    "    file = \"./ECG/S\"+index+\"/S\"+index+\"_ECG_\"+prototype+\".csv\"\n",
    "    frame_ = pd.read_csv(file)\n",
    "    frame_.shape\n",
    "\n",
    "File(\"1\",\"base\")"
   ]
  }
 ],
 "metadata": {
  "kernelspec": {
   "display_name": "Python 3.9.13 64-bit",
   "language": "python",
   "name": "python3"
  },
  "language_info": {
   "codemirror_mode": {
    "name": "ipython",
    "version": 3
   },
   "file_extension": ".py",
   "mimetype": "text/x-python",
   "name": "python",
   "nbconvert_exporter": "python",
   "pygments_lexer": "ipython3",
   "version": "3.9.13"
  },
  "orig_nbformat": 4,
  "vscode": {
   "interpreter": {
    "hash": "aee8b7b246df8f9039afb4144a1f6fd8d2ca17a180786b69acc140d282b71a49"
   }
  }
 },
 "nbformat": 4,
 "nbformat_minor": 2
}
