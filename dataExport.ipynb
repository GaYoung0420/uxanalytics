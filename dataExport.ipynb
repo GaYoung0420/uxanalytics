{
 "cells": [
  {
   "attachments": {},
   "cell_type": "markdown",
   "metadata": {},
   "source": [
    "# File 전처리"
   ]
  },
  {
   "cell_type": "code",
   "execution_count": 10,
   "metadata": {},
   "outputs": [],
   "source": [
    "import pandas as pd\n",
    "import numpy as np\n",
    "\n",
    "\n",
    "def changeFile(index,prototype):\n",
    "    file = \"./ECG/S\"+index+\"/S\"+index+\"_ECG_\"+prototype+\".csv\"\n",
    "    origin_df = pd.read_csv(file)\n",
    "    change_df1 = origin_df[origin_df['State']=='START']\n",
    "    change_df2 = change_df1['Num1']\n",
    "    df_file = \"./ECG_complete/\"+prototype+\"/S\"+index+\"_ECG_\"+prototype+\".csv\"\n",
    "    change_df2.to_csv(df_file,index=False)\n"
   ]
  },
  {
   "cell_type": "code",
   "execution_count": 11,
   "metadata": {},
   "outputs": [],
   "source": [
    "for i in range(1,13):\n",
    "    index = str(i)\n",
    "    changeFile(index,\"base\")\n",
    "    changeFile(index,\"CaseA\")\n",
    "    changeFile(index,\"CaseB\")"
   ]
  }
 ],
 "metadata": {
  "kernelspec": {
   "display_name": "Python 3",
   "language": "python",
   "name": "python3"
  },
  "language_info": {
   "codemirror_mode": {
    "name": "ipython",
    "version": 3
   },
   "file_extension": ".py",
   "mimetype": "text/x-python",
   "name": "python",
   "nbconvert_exporter": "python",
   "pygments_lexer": "ipython3",
   "version": "3.11.0"
  },
  "orig_nbformat": 4,
  "vscode": {
   "interpreter": {
    "hash": "6255b63bea3cc91c8a761e7a55066dd67f75f251a3521e1fb1c41993c45d8623"
   }
  }
 },
 "nbformat": 4,
 "nbformat_minor": 2
}
