{
 "cells": [
  {
   "cell_type": "code",
   "execution_count": 14,
   "metadata": {},
   "outputs": [],
   "source": [
    "import pandas as pd\n",
    "import numpy as np\n",
    "import openpyxl\n",
    "\n",
    "\n",
    "def changeFile(index,prototype):\n",
    "    file = \"./ECG/S\"+index+\"/S\"+index+\"_ECG_\"+prototype+\".csv\"\n",
    "    origin_df = pd.read_csv(file)\n",
    "    change_df = origin_df[origin_df['State']=='START']\n",
    "    df_file = \"./ECG_complete/\"+prototype+\"/S\"+index+\"_ECG_\"+prototype+\".xlsx\"\n",
    "    change_df.to_excel(df_file,index=False)\n",
    "\n",
    "\n"
   ]
  },
  {
   "cell_type": "code",
   "execution_count": 15,
   "metadata": {},
   "outputs": [],
   "source": [
    "for i in range(1,13):\n",
    "    index = str(i)\n",
    "    changeFile(index,\"base\")\n",
    "    changeFile(index,\"CaseA\")\n",
    "    changeFile(index,\"CaseB\")"
   ]
  }
 ],
 "metadata": {
  "kernelspec": {
   "display_name": "Python 3.9.13 64-bit",
   "language": "python",
   "name": "python3"
  },
  "language_info": {
   "codemirror_mode": {
    "name": "ipython",
    "version": 3
   },
   "file_extension": ".py",
   "mimetype": "text/x-python",
   "name": "python",
   "nbconvert_exporter": "python",
   "pygments_lexer": "ipython3",
   "version": "3.10.9"
  },
  "orig_nbformat": 4,
  "vscode": {
   "interpreter": {
    "hash": "aee8b7b246df8f9039afb4144a1f6fd8d2ca17a180786b69acc140d282b71a49"
   }
  }
 },
 "nbformat": 4,
 "nbformat_minor": 2
}
