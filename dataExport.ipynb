{
 "cells": [
  {
   "attachments": {},
   "cell_type": "markdown",
   "metadata": {},
   "source": [
    "# File 전처리"
   ]
  },
  {
   "cell_type": "code",
   "execution_count": 20,
   "metadata": {},
   "outputs": [],
   "source": [
    "import pandas as pd\n",
    "import numpy as np\n",
    "\n",
    "\n",
    "def changeFile(index,prototype):\n",
    "    file = \"./ECG/S\"+index+\"/S\"+index+\"_ECG_\"+prototype+\".csv\"\n",
    "    origin_df = pd.read_csv(file)\n",
    "    change_df1 = origin_df[origin_df['State']=='START']\n",
    "    change_df2 = change_df1['Num1']\n",
    "    df_file = \"./ECG_complete/\"+prototype+\"/S\"+index+\"_ECG_\"+prototype+\".csv\"\n",
    "    change_df2.to_csv(df_file,index=False)\n"
   ]
  },
  {
   "cell_type": "code",
   "execution_count": 13,
   "metadata": {},
   "outputs": [
    {
     "name": "stdout",
     "output_type": "stream",
     "text": [
      "1826     1.637\n",
      "1827     1.652\n",
      "1828     1.672\n",
      "1829     1.652\n",
      "1830     1.632\n",
      "         ...  \n",
      "37094    1.681\n",
      "37095    1.662\n",
      "37096    1.637\n",
      "37097    1.637\n",
      "37098    1.652\n",
      "Name: Num1, Length: 35273, dtype: float64\n"
     ]
    }
   ],
   "source": [
    "changeFile(\"1\",\"base\")"
   ]
  },
  {
   "cell_type": "code",
   "execution_count": 21,
   "metadata": {},
   "outputs": [],
   "source": [
    "for i in range(1,13):\n",
    "    index = str(i)\n",
    "    changeFile(index,\"base\")\n",
    "    # changeFile(index,\"CaseA\")\n",
    "    # changeFile(index,\"CaseB\")"
   ]
  }
 ],
 "metadata": {
  "kernelspec": {
   "display_name": "Python 3",
   "language": "python",
   "name": "python3"
  },
  "language_info": {
   "codemirror_mode": {
    "name": "ipython",
    "version": 3
   },
   "file_extension": ".py",
   "mimetype": "text/x-python",
   "name": "python",
   "nbconvert_exporter": "python",
   "pygments_lexer": "ipython3",
   "version": "3.11.0 (main, Oct 24 2022, 18:26:48) [MSC v.1933 64 bit (AMD64)]"
  },
  "orig_nbformat": 4,
  "vscode": {
   "interpreter": {
    "hash": "6255b63bea3cc91c8a761e7a55066dd67f75f251a3521e1fb1c41993c45d8623"
   }
  }
 },
 "nbformat": 4,
 "nbformat_minor": 2
}
