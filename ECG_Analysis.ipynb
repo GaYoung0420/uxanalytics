{
 "cells": [
  {
   "attachments": {},
   "cell_type": "markdown",
   "metadata": {},
   "source": [
    "# 일반 심전도 신호 분석"
   ]
  },
  {
   "attachments": {},
   "cell_type": "markdown",
   "metadata": {},
   "source": [
    "심박동과 심박동사이의 간격은 안정을 취하고 있을 때에도 항상 변화하는데 이를 심박동수 변이(heart rate\n",
    "variability)\n",
    "\n",
    "bpm : 심박수"
   ]
  },
  {
   "cell_type": "code",
   "execution_count": 1,
   "metadata": {},
   "outputs": [],
   "source": [
    "#import packages\n",
    "import heartpy as hp\n",
    "import matplotlib.pyplot as plt\n",
    "import pandas as pd\n",
    "import numpy as np\n"
   ]
  },
  {
   "cell_type": "code",
   "execution_count": null,
   "metadata": {},
   "outputs": [],
   "source": [
    "data =hp.get_data(\"S1_ECG_CaseB.csv\")\n",
    "fs = 500.0 #example file 0 is sampled at 100.0 Hz\n",
    "\n",
    "working_data, measures = hp.process(data, fs, report_time=True)\n",
    "\n",
    "print(measures['bpm']) #returns BPM value\n",
    "print(measures['rmssd']) # returns RMSSD HRV measure\n",
    "\n",
    "#You can also use Pandas if you so desire\n",
    "import pandas as pd\n",
    "df = pd.read_csv(\"S1_ECG_CaseB.csv\", names=['hr'])\n",
    "\n",
    "#note we need calc_freq if we want frequency-domain measures\n",
    "working_data, measures = hp.process(df['hr'].values, fs, calc_freq=True)\n",
    "print(measures['lf/hf'])\n",
    "print(measures['sdnn'])\n",
    "\n"
   ]
  }
 ],
 "metadata": {
  "kernelspec": {
   "display_name": "Python 3",
   "language": "python",
   "name": "python3"
  },
  "language_info": {
   "codemirror_mode": {
    "name": "ipython",
    "version": 3
   },
   "file_extension": ".py",
   "mimetype": "text/x-python",
   "name": "python",
   "nbconvert_exporter": "python",
   "pygments_lexer": "ipython3",
   "version": "3.11.0"
  },
  "orig_nbformat": 4,
  "vscode": {
   "interpreter": {
    "hash": "6255b63bea3cc91c8a761e7a55066dd67f75f251a3521e1fb1c41993c45d8623"
   }
  }
 },
 "nbformat": 4,
 "nbformat_minor": 2
}
