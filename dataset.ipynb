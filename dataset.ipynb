{
 "cells": [
  {
   "cell_type": "code",
   "execution_count": null,
   "metadata": {},
   "outputs": [],
   "source": [
    "\n",
    "def File(index,prototype):\n",
    "    file = \"./ECG/S\"+index+\"/S\"+index+\"_ECG_\"+prototype+\".txt\"\n",
    "    with open(file, \"r\") as f:\n",
    "        example = f.read()\n",
    "        newer = example.replace('#','\\n')\n",
    "    writefile = \"./ECG/S\"+index+\"/S\"+index+\"_ECG_\"+prototype+\".csv\"\n",
    "    with open(writefile, \"w\") as N:\n",
    "        N.write(newer);"
   ]
  },
  {
   "cell_type": "code",
   "execution_count": 35,
   "metadata": {},
   "outputs": [],
   "source": [
    "\n",
    "def File(index,prototype):\n",
    "    file = \"./GSR/S\"+index+\"/S\"+index+\"_GSR_\"+prototype+\".txt\"\n",
    "    with open(file, \"r\") as f:\n",
    "        example = f.read()\n",
    "        newer = example.replace('#','\\n')\n",
    "    writefile = \"./GSR/S\"+index+\"/S\"+index+\"_GSR_\"+prototype+\".csv\"\n",
    "    with open(writefile, \"w\") as N:\n",
    "        N.write(newer);"
   ]
  },
  {
   "cell_type": "code",
   "execution_count": 39,
   "metadata": {},
   "outputs": [],
   "source": [
    "\n",
    "for i in range(1,13):\n",
    "    index = str(i)\n",
    "    File(index,\"base\")\n",
    "    File(index,\"CaseA\")\n",
    "    File(index,\"CaseB\")\n"
   ]
  }
 ],
 "metadata": {
  "kernelspec": {
   "display_name": "Python 3",
   "language": "python",
   "name": "python3"
  },
  "language_info": {
   "codemirror_mode": {
    "name": "ipython",
    "version": 3
   },
   "file_extension": ".py",
   "mimetype": "text/x-python",
   "name": "python",
   "nbconvert_exporter": "python",
   "pygments_lexer": "ipython3",
   "version": "3.11.0 (main, Oct 24 2022, 18:26:48) [MSC v.1933 64 bit (AMD64)]"
  },
  "orig_nbformat": 4,
  "vscode": {
   "interpreter": {
    "hash": "6255b63bea3cc91c8a761e7a55066dd67f75f251a3521e1fb1c41993c45d8623"
   }
  }
 },
 "nbformat": 4,
 "nbformat_minor": 2
}
