{
 "cells": [
  {
   "cell_type": "code",
   "execution_count": 14,
   "metadata": {},
   "outputs": [],
   "source": [
    "\n",
    "def readFile(index,prototype):\n",
    "    print(index)\n",
    "    file = \"./ECG/S\"+num+\"/S\"+num+\"_ECG_\"+prototype+\".txt\"\n",
    "    with open(file, \"r\") as f:\n",
    "        example = f.read()\n",
    "        newer = example.replace('#','\\n')\n",
    "\n",
    "def writeFile(index,prototype):\n",
    "    writefile = \"./ECG/S\"+num+\"/S\"+num+\"_ECG_\"+prototype+\".csv\"\n",
    "    with open(writefile, \"w\") as N:\n",
    "        N.write(newer);\n",
    "\n",
    "\n",
    "# 12개 피험자 파일 txt => csv 변환\n",
    "# for i in range(1,13):\n",
    "#     file = \"S\"+i\n",
    "#     with open(file+\".txt\", \"r\") as f:\n",
    "#         example = f.read()\n",
    "#         newer = example.replace('#','\\n')\n",
    "#         print(newer);\n",
    "#     with open(file+\".csv\", \"w\") as N:\n",
    "#         N.write(newer);"
   ]
  },
  {
   "cell_type": "code",
   "execution_count": 11,
   "metadata": {},
   "outputs": [
    {
     "name": "stdout",
     "output_type": "stream",
     "text": [
      "1\n",
      "2\n",
      "3\n",
      "4\n",
      "5\n",
      "6\n",
      "7\n",
      "8\n",
      "9\n",
      "10\n",
      "11\n",
      "12\n"
     ]
    }
   ],
   "source": [
    "\n",
    "for i in range(1,13):\n",
    "    index = str(i)\n",
    "    readFile(index,\"base\")\n",
    "    writeFile(index,\"base\")\n",
    "    print(i)\n"
   ]
  }
 ],
 "metadata": {
  "kernelspec": {
   "display_name": "Python 3.9.13 64-bit",
   "language": "python",
   "name": "python3"
  },
  "language_info": {
   "codemirror_mode": {
    "name": "ipython",
    "version": 3
   },
   "file_extension": ".py",
   "mimetype": "text/x-python",
   "name": "python",
   "nbconvert_exporter": "python",
   "pygments_lexer": "ipython3",
   "version": "3.10.9"
  },
  "orig_nbformat": 4,
  "vscode": {
   "interpreter": {
    "hash": "aee8b7b246df8f9039afb4144a1f6fd8d2ca17a180786b69acc140d282b71a49"
   }
  }
 },
 "nbformat": 4,
 "nbformat_minor": 2
}
