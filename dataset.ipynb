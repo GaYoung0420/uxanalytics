{
 "cells": [
  {
   "cell_type": "code",
   "execution_count": null,
   "metadata": {},
   "outputs": [],
   "source": [
    "\n",
    "def File(index,prototype):\n",
    "    file = \"./ECG/S\"+index+\"/S\"+index+\"_ECG_\"+prototype+\".txt\"\n",
    "    with open(file, \"r\") as f:\n",
    "        example = f.read()\n",
    "        newer = example.replace('#','\\n')\n",
    "    writefile = \"./ECG/S\"+index+\"/S\"+index+\"_ECG_\"+prototype+\".csv\"\n",
    "    with open(writefile, \"w\") as N:\n",
    "        N.write(newer);"
   ]
  },
  {
   "cell_type": "code",
   "execution_count": 35,
   "metadata": {},
   "outputs": [],
   "source": [
    "\n",
    "def File(index,prototype):\n",
    "    file = \"./GSR/S\"+index+\"/S\"+index+\"_GSR_\"+prototype+\".txt\"\n",
    "    with open(file, \"r\") as f:\n",
    "        example = f.read()\n",
    "        newer = example.replace('#','\\n')\n",
    "    writefile = \"./GSR/S\"+index+\"/S\"+index+\"_GSR_\"+prototype+\".csv\"\n",
    "    with open(writefile, \"w\") as N:\n",
    "        N.write(newer);"
   ]
  },
  {
   "cell_type": "code",
   "execution_count": 39,
   "metadata": {},
   "outputs": [],
   "source": [
    "\n",
    "for i in range(1,13):\n",
    "    index = str(i)\n",
    "    File(index,\"base\")\n",
    "    File(index,\"CaseA\")\n",
    "    File(index,\"CaseB\")\n"
   ]
  }
 ],
 "metadata": {
  "kernelspec": {
   "display_name": "Python 3.9.13 64-bit",
   "language": "python",
   "name": "python3"
  },
  "language_info": {
   "codemirror_mode": {
    "name": "ipython",
    "version": 3
   },
   "file_extension": ".py",
   "mimetype": "text/x-python",
   "name": "python",
   "nbconvert_exporter": "python",
   "pygments_lexer": "ipython3",
   "version": "3.10.9"
  },
  "orig_nbformat": 4,
  "vscode": {
   "interpreter": {
    "hash": "aee8b7b246df8f9039afb4144a1f6fd8d2ca17a180786b69acc140d282b71a49"
   }
  }
 },
 "nbformat": 4,
 "nbformat_minor": 2
}
